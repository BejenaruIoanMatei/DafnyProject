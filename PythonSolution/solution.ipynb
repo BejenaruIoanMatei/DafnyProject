{
 "cells": [
  {
   "cell_type": "code",
   "execution_count": 1,
   "metadata": {},
   "outputs": [],
   "source": [
    "class BellmanFord:\n",
    "    def __init__(self, vertices, edges):\n",
    "        self.vertices = vertices\n",
    "        self.edges = edges\n",
    "\n",
    "    def initialize_distances(self, source):\n",
    "        \n",
    "        distance = [float('inf')] * self.vertices\n",
    "        predecessor = [None] * self.vertices\n",
    "        distance[source] = 0\n",
    "        return distance, predecessor\n",
    "\n",
    "    def relax_edges(self, distance, predecessor):\n",
    "        \n",
    "        for _ in range(self.vertices - 1):\n",
    "            for u, v, w in self.edges:\n",
    "                if distance[u] + w < distance[v]:\n",
    "                    distance[v] = distance[u] + w\n",
    "                    predecessor[v] = u\n",
    "        return distance, predecessor\n",
    "\n",
    "    def detect_negative_cycle(self, distance):\n",
    "        \n",
    "        for u, v, w in self.edges:\n",
    "            if distance[u] + w < distance[v]:\n",
    "                return True\n",
    "        return False\n",
    "\n",
    "    def reconstruct_path(self, source, target, predecessor):\n",
    "        \n",
    "        path = []\n",
    "        current = target\n",
    "        while current is not None:\n",
    "            path.append(current)\n",
    "            current = predecessor[current]\n",
    "        path.reverse()\n",
    "        if path[0] == source:\n",
    "            return path\n",
    "        return []\n",
    "\n",
    "    def run(self, source):\n",
    "\n",
    "        distance, predecessor = self.initialize_distances(source)\n",
    "        distance, predecessor = self.relax_edges(distance, predecessor)\n",
    "        negative_cycle = self.detect_negative_cycle(distance)\n",
    "        return distance, predecessor, negative_cycle\n"
   ]
  },
  {
   "cell_type": "code",
   "execution_count": 2,
   "metadata": {},
   "outputs": [],
   "source": [
    "edges = [\n",
    "    (0, 1, 4),\n",
    "    (0, 2, 5),\n",
    "    (1, 2, -3),\n",
    "    (1, 3, 6),\n",
    "    (2, 3, 2)\n",
    "]\n",
    "bf = BellmanFord(vertices=4, edges=edges)\n"
   ]
  },
  {
   "cell_type": "code",
   "execution_count": 5,
   "metadata": {},
   "outputs": [
    {
     "name": "stdout",
     "output_type": "stream",
     "text": [
      "Dist de la sursa: [0, 4, 1, 3]\n",
      "Predecesorii fiecarui nod: [None, 0, 1, 2]\n"
     ]
    }
   ],
   "source": [
    "source = 0\n",
    "distance, predecessor, negative_cycle = bf.run(source)\n",
    "\n",
    "if negative_cycle:\n",
    "    print(\"Graful contine un ciclu de cost neg\")\n",
    "else:\n",
    "    print(\"Dist de la sursa:\", distance)\n",
    "    print(\"Predecesorii fiecarui nod:\", predecessor)\n"
   ]
  },
  {
   "cell_type": "code",
   "execution_count": 4,
   "metadata": {},
   "outputs": [
    {
     "name": "stdout",
     "output_type": "stream",
     "text": [
      "Drumul minim de la 0 la 3 : [0, 1, 2, 3]\n"
     ]
    }
   ],
   "source": [
    "target = 3\n",
    "path = bf.reconstruct_path(source, target, predecessor)\n",
    "print(\"Drumul minim de la\", source, \"la\", target, \":\", path)\n"
   ]
  }
 ],
 "metadata": {
  "kernelspec": {
   "display_name": "Python 3",
   "language": "python",
   "name": "python3"
  },
  "language_info": {
   "codemirror_mode": {
    "name": "ipython",
    "version": 3
   },
   "file_extension": ".py",
   "mimetype": "text/x-python",
   "name": "python",
   "nbconvert_exporter": "python",
   "pygments_lexer": "ipython3",
   "version": "3.12.6"
  },
  "orig_nbformat": 4
 },
 "nbformat": 4,
 "nbformat_minor": 2
}
